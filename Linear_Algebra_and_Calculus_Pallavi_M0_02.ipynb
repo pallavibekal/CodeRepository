{
  "nbformat": 4,
  "nbformat_minor": 0,
  "metadata": {
    "colab": {
      "name": "Linear_Algebra_and_Calculus-Pallavi - M0- 02.ipynb",
      "provenance": [],
      "collapsed_sections": [],
      "include_colab_link": true
    },
    "kernelspec": {
      "display_name": "Python 3",
      "language": "python",
      "name": "python3"
    },
    "language_info": {
      "codemirror_mode": {
        "name": "ipython",
        "version": 3
      },
      "file_extension": ".py",
      "mimetype": "text/x-python",
      "name": "python",
      "nbconvert_exporter": "python",
      "pygments_lexer": "ipython3",
      "version": "3.8.5"
    }
  },
  "cells": [
    {
      "cell_type": "markdown",
      "metadata": {
        "id": "view-in-github",
        "colab_type": "text"
      },
      "source": [
        "<a href=\"https://colab.research.google.com/github/pallavibekal/CodeRepository/blob/main/Linear_Algebra_and_Calculus_Pallavi_M0_02.ipynb\" target=\"_parent\"><img src=\"https://colab.research.google.com/assets/colab-badge.svg\" alt=\"Open In Colab\"/></a>"
      ]
    },
    {
      "cell_type": "markdown",
      "metadata": {
        "id": "TnGEuHJusOup"
      },
      "source": [
        "## Problem Statement"
      ]
    },
    {
      "cell_type": "markdown",
      "metadata": {
        "id": "xlkm2qM2sQ-T"
      },
      "source": [
        " The task is to advise a petroleum company on how to meet the demands of their customers for motor oil, diesel oil and gasoline."
      ]
    },
    {
      "cell_type": "markdown",
      "metadata": {
        "id": "cs0B3ScgUVRv"
      },
      "source": [
        "## Objectives"
      ]
    },
    {
      "cell_type": "markdown",
      "metadata": {
        "id": "Sq5piVQRUVRw"
      },
      "source": [
        "At the end of the experiment, we will be able to\n",
        "\n",
        "* create arrays and matrices in python\n",
        "* understand the concepts of linear equations\n",
        "* solve the system of linear equations"
      ]
    },
    {
      "cell_type": "markdown",
      "metadata": {
        "id": "IvKa0MVttqXf"
      },
      "source": [
        "### Data"
      ]
    },
    {
      "cell_type": "markdown",
      "metadata": {
        "id": "dRrGFyZOtsAj"
      },
      "source": [
        "From a barrel of crude oil, in one day, factory $A$ can produce \n",
        "* 20 gallons of motor oil, \n",
        "* 10 gallons of diesel oil, and \n",
        "* 5 gallons of gasoline \n",
        "\n",
        "Similarly, factory $B$ can produce \n",
        "* 4 gallons of motor oil, \n",
        "* 14 gallons of diesel oil, and \n",
        "* 5 gallons of gasoline\n",
        " \n",
        "while factory $C$ can produce \n",
        "* 4 gallons of motor oil,\n",
        "* 5 gallons of diesel oil, and \n",
        "* 12 gallons of gasoline \n",
        "\n",
        "There is also waste in the form of paraffin, among other things. Factory $A$ has 3 gallons of paraffin to dispose of per barrel of crude, factory $B$ 5 gallons, and factory $C$ 2 gallons."
      ]
    },
    {
      "cell_type": "markdown",
      "metadata": {
        "id": "zAitCztdraex"
      },
      "source": [
        "### Create an array \n",
        "\n",
        "Create an array of size 2x3 with arbitrary values."
      ]
    },
    {
      "cell_type": "code",
      "metadata": {
        "id": "owKFXLLzrqVb",
        "colab": {
          "base_uri": "https://localhost:8080/"
        },
        "outputId": "cd02c846-163f-475c-a9d6-8d32b204e388"
      },
      "source": [
        "\n",
        "import numpy as np\n",
        "import scipy.linalg as la\n",
        "a = np.random.randint(5, size=(2,3))\n",
        "print(a)"
      ],
      "execution_count": null,
      "outputs": [
        {
          "output_type": "stream",
          "text": [
            "[[7 2 7]\n",
            " [7 7 6]]\n"
          ],
          "name": "stdout"
        }
      ]
    },
    {
      "cell_type": "markdown",
      "metadata": {
        "id": "K_7EztnGvzDK"
      },
      "source": [
        "### Create the system of Linear Equation"
      ]
    },
    {
      "cell_type": "markdown",
      "metadata": {
        "id": "zL9M9kmrv_ZA"
      },
      "source": [
        "Suppose the current daily demand from distributors is 6600 gallons of motor oil, 5100 gallons of diesel oil and 3100 of gasoline.\n",
        "\n",
        "Set up the system of equations which describes the above situation. Please include the units as well."
      ]
    },
    {
      "cell_type": "markdown",
      "metadata": {
        "id": "nbOcii0EZpUI"
      },
      "source": [
        "Let the number of barrels used by factory $A$, $B$ and $C$ are $x$, $y$ and $z$ respectively.\n",
        "\n",
        "Then the system of linear equations will be\n",
        "\n",
        "$$Motor\\ oil:\\ \\ \\ 20x + 4y + 4z = 6600$$\n",
        "\n",
        "$$Diesel\\ oil:\\ \\ \\ 10x + 14y + 5z = 5100$$\n",
        "\n",
        "$$Gasoline:\\ \\ \\ 5x + 5y + 12z = 3100$$"
      ]
    },
    {
      "cell_type": "markdown",
      "metadata": {
        "id": "1qLF2LvG2I8Y"
      },
      "source": [
        "### Solve the system of Linear Equation"
      ]
    },
    {
      "cell_type": "markdown",
      "metadata": {
        "id": "FzjOkaq21_8L"
      },
      "source": [
        "How many barrels of crude oil each plant should get in order to meet the demand as a group. Remember that we can only provide each plant with an integral number of barrels."
      ]
    },
    {
      "cell_type": "code",
      "metadata": {
        "id": "Plx-kStlcGOW"
      },
      "source": [
        "\n",
        "coefficients_data = [[20, 4, 4], [10, 14, 5], [5, 5, 12]]\n",
        "coefficients = np.array(coefficients_data)\n",
        "coefficients"
      ],
      "execution_count": null,
      "outputs": []
    },
    {
      "cell_type": "markdown",
      "metadata": {
        "id": "0-EcX1ktAwfK"
      },
      "source": [
        "Check determinant is non-zero"
      ]
    },
    {
      "cell_type": "code",
      "metadata": {
        "colab": {
          "base_uri": "https://localhost:8080/"
        },
        "id": "Zd7J_3wxAtUc",
        "outputId": "d7af7616-3002-4819-fc1e-c52f0c6204c1"
      },
      "source": [
        "np.linalg.det(coefficients)"
      ],
      "execution_count": null,
      "outputs": [
        {
          "output_type": "execute_result",
          "data": {
            "text/plain": [
              "2400.0000000000005"
            ]
          },
          "metadata": {
            "tags": []
          },
          "execution_count": 30
        }
      ]
    },
    {
      "cell_type": "code",
      "metadata": {
        "colab": {
          "base_uri": "https://localhost:8080/"
        },
        "id": "_dhC5wZYA7HM",
        "outputId": "cc2c15a7-241c-48c3-f3be-88513a4a05ae"
      },
      "source": [
        "terms_data = [6600, 5100, 3100]\n",
        "terms = np.array(terms_data)\n",
        "terms"
      ],
      "execution_count": null,
      "outputs": [
        {
          "output_type": "execute_result",
          "data": {
            "text/plain": [
              "array([6600, 5100, 3100])"
            ]
          },
          "metadata": {
            "tags": []
          },
          "execution_count": 31
        }
      ]
    },
    {
      "cell_type": "code",
      "metadata": {
        "colab": {
          "base_uri": "https://localhost:8080/"
        },
        "id": "4w2ZtBnPA7Ta",
        "outputId": "47863c26-78d0-40f6-9720-a6b1da5cc96e"
      },
      "source": [
        "solutions = np.array(np.ceil(np.linalg.solve(coefficients, terms)), dtype=np.int32)\n",
        "solutions"
      ],
      "execution_count": null,
      "outputs": [
        {
          "output_type": "execute_result",
          "data": {
            "text/plain": [
              "array([288, 129,  85], dtype=int32)"
            ]
          },
          "metadata": {
            "tags": []
          },
          "execution_count": 32
        }
      ]
    },
    {
      "cell_type": "markdown",
      "metadata": {
        "id": "nY-rFiKAbVl3"
      },
      "source": [
        "Suppose the total demand for all products **doubled**. What would the solution now be? How does it compare to the original solution? Why, mathematically, should this have been expected?"
      ]
    },
    {
      "cell_type": "code",
      "metadata": {
        "id": "OODSS2bFcjKV",
        "colab": {
          "base_uri": "https://localhost:8080/"
        },
        "outputId": "ecfa98f2-69e6-43a5-e665-0c577e5bf20d"
      },
      "source": [
        "# YOUR CODE HERE\n",
        "double_terms = 2 * terms\n",
        "double_terms"
      ],
      "execution_count": null,
      "outputs": [
        {
          "output_type": "execute_result",
          "data": {
            "text/plain": [
              "array([13200, 10200,  6200])"
            ]
          },
          "metadata": {
            "tags": []
          },
          "execution_count": 33
        }
      ]
    },
    {
      "cell_type": "code",
      "metadata": {
        "colab": {
          "base_uri": "https://localhost:8080/"
        },
        "id": "vXdBoOsQCLJs",
        "outputId": "747b943f-6702-472f-fbd0-216995ae923c"
      },
      "source": [
        "double_terms_solutions = np.array(np.ceil(np.linalg.solve(coefficients, double_terms)), dtype=np.int32)\n",
        "double_terms_solutions"
      ],
      "execution_count": null,
      "outputs": [
        {
          "output_type": "execute_result",
          "data": {
            "text/plain": [
              "array([575, 258, 170], dtype=int32)"
            ]
          },
          "metadata": {
            "tags": []
          },
          "execution_count": 34
        }
      ]
    },
    {
      "cell_type": "markdown",
      "metadata": {
        "id": "p_1a-z0Gds6D"
      },
      "source": [
        "Suppose that the company acquires another group of distributors and that the daily demand of this group is 2000 gallons of motor oil, 4000 gallons of gasoline, and 4000 gallons of diesel oil. How would you set up production of just this supply? Are there any options (more than one way)?"
      ]
    },
    {
      "cell_type": "code",
      "metadata": {
        "id": "gWaeKh6eQe2W",
        "colab": {
          "base_uri": "https://localhost:8080/"
        },
        "outputId": "154e8e95-c9c7-41ed-ce44-a210d7e9322b"
      },
      "source": [
        "\n",
        "group2_terms = np.array([2000, 4000, 4000])\n",
        "group2_solutions = np.ceil(np.linalg.solve(coefficients, group2_terms))\n",
        "group2_solutions"
      ],
      "execution_count": null,
      "outputs": [
        {
          "output_type": "execute_result",
          "data": {
            "text/plain": [
              "array([ 13., 188., 250.])"
            ]
          },
          "metadata": {
            "tags": []
          },
          "execution_count": 36
        }
      ]
    },
    {
      "cell_type": "markdown",
      "metadata": {
        "id": "H4sayZf1etbN"
      },
      "source": [
        "Next, calculate the needs of each factory (in barrels of crude, as usual) to meet the total demand of both groups of distributors. When you have done this, compare your answer to results already obtained. What mathematical conclusion can you draw?"
      ]
    },
    {
      "cell_type": "code",
      "metadata": {
        "id": "Hjm5kcawewgT",
        "colab": {
          "base_uri": "https://localhost:8080/"
        },
        "outputId": "e6f8baab-8330-4427-940d-dca476bfaa47"
      },
      "source": [
        "\n",
        "combined_terms = group2_terms + terms\n",
        "combined_solutions = np.ceil(np.linalg.solve(coefficients, combined_terms))\n",
        "combined_solutions"
      ],
      "execution_count": null,
      "outputs": [
        {
          "output_type": "execute_result",
          "data": {
            "text/plain": [
              "array([300., 317., 335.])"
            ]
          },
          "metadata": {
            "tags": []
          },
          "execution_count": 37
        }
      ]
    },
    {
      "cell_type": "markdown",
      "metadata": {
        "id": "SkAak9JDK8vC"
      },
      "source": [
        "combine_solution = solutions + group2_solutions"
      ]
    },
    {
      "cell_type": "code",
      "metadata": {
        "id": "jtOEyN92ErLC"
      },
      "source": [
        "solutions"
      ],
      "execution_count": null,
      "outputs": []
    },
    {
      "cell_type": "markdown",
      "metadata": {
        "id": "ov7RWVpSpzhw"
      },
      "source": [
        "### Sensitivity and Robustness"
      ]
    },
    {
      "cell_type": "markdown",
      "metadata": {
        "id": "G1MVw0x_fQMC"
      },
      "source": [
        "In real life applications, constants are rarely ever exactly equal to their stated value; certain amounts of uncertainty are always present. This is part of the reason for the science of statistics. In the above model, the daily productions for the plants would be averages over a period of time. Explore what effect small changes in the parameters have on the output.\n",
        "\n",
        "To do this, pick any 3 coefficients, one at a time, and increase or decrease them by 3%. For each case , note what effect this has on the solution, as a percentage change. Can you draw any overall conclusion?"
      ]
    },
    {
      "cell_type": "code",
      "metadata": {
        "id": "ObBZDKvYfqie",
        "colab": {
          "base_uri": "https://localhost:8080/"
        },
        "outputId": "0caf6efc-6034-4957-be43-fc0329427cc0"
      },
      "source": [
        "\n",
        "\n",
        "a = np.array([[20, 4, 4],\n",
        "              [10, 14, 5],\n",
        "              [5, 5, 12]])\n",
        "b = np.array([6600, 5100, 3100])\n",
        "X = np.linalg.solve(a, b)\n",
        "x = X[0]\n",
        "y = X[1]\n",
        "z = X[2]\n",
        "#print(x,y,z)\n",
        "A = 20*x + 10*x + 5*x\n",
        "B = 4*y + 14*y + 5*y\n",
        "C = 4*z + 5*z + 12*z\n",
        "\n",
        "print(\"# Original Prod output with specific plants\")\n",
        "print(\"A :\", A ,\"\\nB : \", B ,\"\\nC : \", C )"
      ],
      "execution_count": null,
      "outputs": [
        {
          "output_type": "stream",
          "text": [
            "# Original Prod output with specific plants\n",
            "A : 10053.75 \n",
            "B :  2961.25 \n",
            "C :  1785.0\n"
          ],
          "name": "stdout"
        }
      ]
    },
    {
      "cell_type": "code",
      "metadata": {
        "id": "GRXPZvFWE3D_",
        "colab": {
          "base_uri": "https://localhost:8080/"
        },
        "outputId": "a8a44e4e-a97e-47e9-daa0-abb8949fa4e7"
      },
      "source": [
        "# Increasing x coefficient by 3%\n",
        "a1 = np.array([[20 + 20*0.03, 4, 4],\n",
        "              [10 + 10*0.03, 14, 5],\n",
        "              [5 + 5 * 0.03, 5, 12]])\n",
        "b1 = np.array([6600, 5100, 3100])\n",
        "\n",
        "X1 = np.linalg.solve(a1, b1)\n",
        "print(X1)\n",
        "A11 = 20*X1[0] + 10*X1[0] + 5*X[0]\n",
        "B11 = 4*X1[1] + 14*X1[1] + 5*X1[1]\n",
        "C11 = 4*X1[2] + 5*X1[2] + 12*X1[2]\n",
        "print(\"# Increasing x coefficient by 3%, Prod output with specific plants\")\n",
        "print(\"A11 :\", A11 ,\"\\nB11 : \", B11 ,\"\\nC11 : \", C11 )\n",
        "\n",
        "\n"
      ],
      "execution_count": null,
      "outputs": [
        {
          "output_type": "stream",
          "text": [
            "[278.88349515 128.75        85.        ]\n",
            "# Increasing x coefficient by 3%, Prod output with specific plants\n",
            "A11 : 9802.754854368932 \n",
            "B11 :  2961.25 \n",
            "C11 :  1785.0\n"
          ],
          "name": "stdout"
        }
      ]
    },
    {
      "cell_type": "code",
      "metadata": {
        "colab": {
          "base_uri": "https://localhost:8080/"
        },
        "id": "5EPjFFYqFveE",
        "outputId": "eaff1230-fd6b-4156-d02a-40f663bbe2c6"
      },
      "source": [
        "# Increasing y coefficient\n",
        "a2 = np.array([[20 , 4 + 4*0.03, 4],\n",
        "              [10 , 14 + 14*0.03, 5],\n",
        "              [5 , 5 + 5*0.03, 12]])\n",
        "b2 = np.array([6600, 5100, 3100])\n",
        "\n",
        "X2 = np.linalg.solve(a2, b2)\n",
        "#print(X2)\n",
        "A12 = 20*X2[0] + 10*X2[0] + 5*X2[0]\n",
        "B12 = 4*X2[1] + 14*X2[1] + 5*X2[1]\n",
        "C12 = 4*X2[2] + 5*X2[2] + 12*X2[2]\n",
        "print(\"# # Increasing y coefficient, Prod output with specific plants\")\n",
        "print(\"A12 :\", A12 ,\"\\nB12 : \", B12 ,\"\\nC12 : \", C12 )"
      ],
      "execution_count": null,
      "outputs": [
        {
          "output_type": "stream",
          "text": [
            "# # Increasing y coefficient, Prod output with specific plants\n",
            "A12 : 10053.75 \n",
            "B12 :  2875.0 \n",
            "C12 :  1784.9999999999995\n"
          ],
          "name": "stdout"
        }
      ]
    },
    {
      "cell_type": "code",
      "metadata": {
        "colab": {
          "base_uri": "https://localhost:8080/"
        },
        "id": "KnV-bLjTMHJv",
        "outputId": "b6ab8ab3-7d35-41e3-efc0-cf6463ea17d4"
      },
      "source": [
        "print(X, X1)\n",
        "(X - X1) / X1"
      ],
      "execution_count": null,
      "outputs": [
        {
          "output_type": "stream",
          "text": [
            "[287.25 128.75  85.  ] [278.88349515 128.75        85.        ]\n"
          ],
          "name": "stdout"
        },
        {
          "output_type": "execute_result",
          "data": {
            "text/plain": [
              "array([0.03, 0.  , 0.  ])"
            ]
          },
          "metadata": {
            "tags": []
          },
          "execution_count": 42
        }
      ]
    },
    {
      "cell_type": "code",
      "metadata": {
        "colab": {
          "base_uri": "https://localhost:8080/"
        },
        "id": "kIYKx0fIGCUf",
        "outputId": "66f63859-2dce-46a9-d8bb-fb0392aaf5a1"
      },
      "source": [
        "# Increasing z coefficient\n",
        "a3 = np.array([[20 , 4 + 4, 4 + 4*0.03],\n",
        "              [10 , 14 + 14, 5 + 5*0.03],\n",
        "              [5 , 5 + 5, 12 + 12*0.03]])\n",
        "b3 = np.array([6600, 5100, 3100])\n",
        "\n",
        "X3 = np.linalg.solve(a3, b3)\n",
        "#print(X2)\n",
        "A13 = 20*X3[0] + 10*X3[0] + 5*X3[0]\n",
        "B13 = 4*X3[1] + 14*X3[1] + 5*X3[1]\n",
        "C13 = 4*X3[2] + 5*X3[2] + 12*X3[2]\n",
        "print(\"# # Increasing z coefficient, Prod output with specific plants\")\n",
        "print(\"A13 :\", A13 ,\"\\nB13 : \", B13 ,\"\\nC13 : \", C13 )"
      ],
      "execution_count": null,
      "outputs": [
        {
          "output_type": "stream",
          "text": [
            "# # Increasing z coefficient, Prod output with specific plants\n",
            "A13 : 10053.75 \n",
            "B13 :  1480.625 \n",
            "C13 :  1733.0097087378645\n"
          ],
          "name": "stdout"
        }
      ]
    },
    {
      "cell_type": "code",
      "metadata": {
        "colab": {
          "base_uri": "https://localhost:8080/"
        },
        "id": "ZPOF9BEFMmBg",
        "outputId": "6708a5b0-0fb7-4f99-f3dc-66a6633c85b1"
      },
      "source": [
        "(X - X3)/X3"
      ],
      "execution_count": null,
      "outputs": [
        {
          "output_type": "execute_result",
          "data": {
            "text/plain": [
              "array([0.  , 1.  , 0.03])"
            ]
          },
          "metadata": {
            "tags": []
          },
          "execution_count": 45
        }
      ]
    },
    {
      "cell_type": "code",
      "metadata": {
        "id": "48W114xSGIQI",
        "colab": {
          "base_uri": "https://localhost:8080/"
        },
        "outputId": "b347b1bb-9c88-4901-9b00-fac27e121ef8"
      },
      "source": [
        "print(\"# Original Prod output with specific plants\")\n",
        "print(\"A :\", A ,\"\\nB : \", B ,\"\\nC : \", C )\n",
        "\n",
        "print(\"# After increasing x by  3% with coefficients, Prod output with specific plants\")\n",
        "print(\"A11 :\", A11 ,\"\\nB11 : \", B11 ,\"\\nC11 : \", C11 )\n",
        "\n",
        "print(\"# After increasing y by 3% with coefficients, Prod output with specific plants\")\n",
        "print(\"A12 :\", A12 ,\"\\nB12 : \", B12 ,\"\\nC12 : \", C12 )\n",
        "\n",
        "print(\"# After increasing z by 3% with coefficients, Prod output with specific plants\")\n",
        "print(\"A13 :\", A13 ,\"\\nB13 : \", B13 ,\"\\nC13 : \", C13 )"
      ],
      "execution_count": null,
      "outputs": [
        {
          "output_type": "stream",
          "text": [
            "# Original Prod output with specific plants\n",
            "A : 10053.75 \n",
            "B :  2961.25 \n",
            "C :  1785.0\n",
            "# After increasing x by  3% with coefficients, Prod output with specific plants\n",
            "A11 : 9802.754854368932 \n",
            "B11 :  2961.25 \n",
            "C11 :  1785.0\n",
            "# After increasing y by 3% with coefficients, Prod output with specific plants\n",
            "A12 : 10053.75 \n",
            "B12 :  2875.0 \n",
            "C12 :  1784.9999999999995\n",
            "# After increasing z by 3% with coefficients, Prod output with specific plants\n",
            "A13 : 10053.75 \n",
            "B13 :  1480.625 \n",
            "C13 :  1733.0097087378645\n"
          ],
          "name": "stdout"
        }
      ]
    },
    {
      "cell_type": "markdown",
      "metadata": {
        "id": "8lxCi9vLJt2E"
      },
      "source": [
        "\n",
        "3 % increase with coefficient Y, increase with overall production, increase with Z coefficient decrease with overall production."
      ]
    },
    {
      "cell_type": "markdown",
      "metadata": {
        "id": "JOj5wcxQpzhx"
      },
      "source": [
        "### A Plant Off-Line"
      ]
    },
    {
      "cell_type": "markdown",
      "metadata": {
        "id": "Dbm0HcJ7frNz"
      },
      "source": [
        "Suppose factory $C$ is shut down by the EPA (Environmental Protection Agency) temporarily for excessive emissions into the atmosphere. If your demand is as it was originally (6600, 5100, 3100), what would you now say about the companies ability to meet it? What do you recommend they schedule for production now?"
      ]
    },
    {
      "cell_type": "code",
      "metadata": {
        "id": "gpbtzvrVAST3",
        "colab": {
          "base_uri": "https://localhost:8080/"
        },
        "outputId": "95c88053-36a4-4259-9e16-d7cd9af11a87"
      },
      "source": [
        "\n",
        "# My equations now, with C shut off will be \n",
        "#         20x +  4y = 6600\n",
        "#         10x + 14y = 5100\n",
        "#          5x +  5y = 3100\n",
        "\n",
        "# We now have an overdetermined system - no of equations > no.of unknowns. There is no single solution. Hence we use the numpy linalg-lstsq to get an approximate solution. \n",
        "import numpy as np\n",
        "AP = np.array([[20,4],[10,14],[5,5]])\n",
        "bp = np.array([6600,5100,3100])\n",
        "xp = np.linalg.lstsq(AP,bp,rcond=None)\n",
        "xp1, xp2 = np.ceil(xp[0])\n",
        "print('This is an overdetermined system, therefore there is no single solution')\n",
        "print('Least Square Solution for the overdetermined system is - ',xp1,xp2)\n",
        "\n",
        "\n"
      ],
      "execution_count": null,
      "outputs": [
        {
          "output_type": "stream",
          "text": [
            "This is an overdetermined system, therefore there is no single solution\n",
            "Least Square Solution for the overdetermined system is -  300.0 169.0\n"
          ],
          "name": "stdout"
        }
      ]
    },
    {
      "cell_type": "code",
      "metadata": {
        "id": "1du1KKfxoB50"
      },
      "source": [
        ""
      ],
      "execution_count": null,
      "outputs": []
    },
    {
      "cell_type": "markdown",
      "metadata": {
        "id": "tZpzEVmEpzhx"
      },
      "source": [
        "### Buying another plant"
      ]
    },
    {
      "cell_type": "markdown",
      "metadata": {
        "id": "X0ghbS-s3Mel"
      },
      "source": [
        "This situation has caused enough concern that the CEO is considering buying another plant, identical to the third, and using it permanently. Assuming that all 4 plants are on line, what production do you recommend to meet the current demand (5000, 8500, 10000)? In general, what can you say about any increased flexibility that the 4th plant might provide?"
      ]
    },
    {
      "cell_type": "markdown",
      "metadata": {
        "id": "IcbiTq8zpzhx"
      },
      "source": [
        "Let the number of barrels used by factory $A$, $B$, $C$ and $D$ are $x$, $y$, $z$ and $w$ respectively.\n",
        "\n",
        "Then the system of linear equations will be\n",
        "\n",
        "$$20x + 4y + 4z + 4w = 5000$$\n",
        "\n",
        "$$10x + 14y + 5z + 5w = 8500$$\n",
        "\n",
        "$$5x + 5y + 12z + 12w = 10000$$\n",
        "\n",
        "The above system of linear equation has fewer equations than variables, hence it is *underdetermined* and cannot have a unique solution. In this case, there are either infinitely many solutions or no exact solution. We can solve it by keeping $w$ as constant and using [rref](http://linear.ups.edu/html/section-RREF.html) form to solve the system of linear equation.\n",
        "\n",
        "To know about rref implementation in python refer [here](https://docs.sympy.org/latest/tutorial/matrices.html#rref)."
      ]
    },
    {
      "cell_type": "code",
      "metadata": {
        "colab": {
          "base_uri": "https://localhost:8080/"
        },
        "id": "DnCYG65tB8gp",
        "outputId": "fd2d1f39-a42c-4b2e-d340-88c6276ab914"
      },
      "source": [
        "import sympy as sy\n",
        "\n",
        "# create symbol 'w'\n",
        "w = sy.Symbol(\"w\")            \n",
        "A_aug = sy.Matrix([[20, 4, 4, 5000-4*w], \n",
        "                   [10, 14, 5, 8500-5*w], \n",
        "                   [5, 5, 12, 10000-12*w]])\n",
        "# show rref form\n",
        "A_aug.rref()                  "
      ],
      "execution_count": null,
      "outputs": [
        {
          "output_type": "execute_result",
          "data": {
            "text/plain": [
              "(Matrix([\n",
              " [1, 0, 0,   195/4],\n",
              " [0, 1, 0,  1325/4],\n",
              " [0, 0, 1, 675 - w]]),\n",
              " (0, 1, 2))"
            ]
          },
          "metadata": {
            "tags": []
          },
          "execution_count": 13
        }
      ]
    },
    {
      "cell_type": "markdown",
      "metadata": {
        "id": "1lcEL3n5pzhz"
      },
      "source": [
        "From the above result, it can be seen that 4th plant will share the number of barrels required by the 3rd plant only, while the requirement of 1st and 2nd plant will remain unaffected."
      ]
    },
    {
      "cell_type": "markdown",
      "metadata": {
        "id": "yE9hCfAMpzhz"
      },
      "source": [
        "### Calculate the amount of Paraffin supplied"
      ]
    },
    {
      "cell_type": "markdown",
      "metadata": {
        "id": "u9HSGUeZquXD"
      },
      "source": [
        "The company has just found a candle company that will buy its paraffin. Under the current conditions (i.e, after buying another plant) for demand (5000, 8500, 10000), how much can be supplied to them per day?"
      ]
    },
    {
      "cell_type": "markdown",
      "metadata": {
        "id": "ilEui1GHA3Oh"
      },
      "source": [
        "According to the problem statement, factory $A$ has 3 gallons of paraffin to dispose of per barrel of crude oil, factory $B$ 5 gallons, and factory $C$ 2 gallons."
      ]
    },
    {
      "cell_type": "code",
      "metadata": {
        "id": "gJnUalG2_r0i",
        "colab": {
          "base_uri": "https://localhost:8080/"
        },
        "outputId": "e14be250-9acb-4f22-df9c-fb51f7957d16"
      },
      "source": [
        "\n",
        "supply = (195/4) * 3 + (1325/4) * 5 + (675) * 2\n",
        "print(\"Paraffin supply = \",supply)"
      ],
      "execution_count": null,
      "outputs": [
        {
          "output_type": "stream",
          "text": [
            "Paraffin supply =  3152.5\n"
          ],
          "name": "stdout"
        }
      ]
    },
    {
      "cell_type": "markdown",
      "metadata": {
        "id": "sSpnIH4Ypzh0"
      },
      "source": [
        "### Selling the first plant"
      ]
    },
    {
      "cell_type": "markdown",
      "metadata": {
        "id": "8l3c1GN14EDp"
      },
      "source": [
        "The management is also considering selling the first plant due to aging equipment and high workman's compensation costs for the state it is located in. They would like to know what this would do to their production capability. Specifically, they would like an example of a demand they could not meet with only plants 2 and 3, and also what effect having plant 4 has (recall it is identical to plant 3). They would also like an example of a demand that they could meet with just plants 2 and 3. Any general statements you could make here would be helpful."
      ]
    },
    {
      "cell_type": "markdown",
      "metadata": {
        "id": "qYz46wb2GTo7"
      },
      "source": [
        "Let the number of barrels used by factory $B$, $C$ and $D$ are $y$, $z$ and $w$ respectively.\n",
        "\n",
        "When considering only plants 2 and 3, and demand (5000, 8500, 10000) then we have\n",
        "\n",
        "$$4y + 4z = 5000$$\n",
        "\n",
        "$$14y + 5z = 8500$$\n",
        "\n",
        "$$5y + 12z = 10000$$"
      ]
    },
    {
      "cell_type": "code",
      "metadata": {
        "id": "Ru-prbsHGwH_",
        "colab": {
          "base_uri": "https://localhost:8080/"
        },
        "outputId": "27e2cfaa-ca8f-4c90-9f6e-0173cd9649d7"
      },
      "source": [
        "\n",
        "import sympy as sy\n",
        "\n",
        "#Solving first and second equations\n",
        "A_S = np.array([[4,4],[14,5],[5,12]])\n",
        "B_S = np.array([5000,8500,10000]).reshape(3,1)\n",
        "\n",
        "A_S1 = np.array([[4,4],[14,5]])\n",
        "B_S1 = np.array([5000,8500]).reshape(2,1)\n",
        "\n",
        "A_S1_INV = la.inv(A_S1)\n",
        "print(A_S1_INV @ B_S1)\n",
        "\n",
        "#Solving second and third equations\n",
        "A_S2 = np.array([[14,5],[5,12]])\n",
        "B_S2 = np.array([8500,10000]).reshape(2,1)\n",
        "\n",
        "A_S2_INV = la.inv(A_S2)\n",
        "\n",
        "print(A_S2_INV @ B_S2)\n",
        "\n",
        "#Solving first and last equations\n",
        "\n",
        "A_S3 = np.array([[4,4],[5,12]])\n",
        "B_S3 = np.array([5000,10000]).reshape(2,1)\n",
        "\n",
        "A_S3_INV = la.inv(A_S3)\n",
        "\n",
        "print(A_S3_INV @ B_S3)\n",
        "\n",
        "\n",
        "# NO CONSISTENT SOLTUION EXISTS\n"
      ],
      "execution_count": null,
      "outputs": [
        {
          "output_type": "stream",
          "text": [
            "[[ 250.]\n",
            " [1000.]]\n",
            "[[363.63636364]\n",
            " [681.81818182]]\n",
            "[[714.28571429]\n",
            " [535.71428571]]\n"
          ],
          "name": "stdout"
        }
      ]
    },
    {
      "cell_type": "markdown",
      "metadata": {
        "id": "bLsK1-zNEP0T"
      },
      "source": [
        "Taking 4th plant into consideration.\n",
        "Let the number of barrels used by factory $B$, $C$ and $D$ are $y$, $z$ and $w$ respectively.\n",
        "\n",
        "Then for demand (5000, 8500, 10000) the system of linear equations will be\n",
        "\n",
        "$$4y + 4z + 4w = 5000$$\n",
        "\n",
        "$$14y + 5z + 5w = 8500$$\n",
        "\n",
        "$$5y + 12z + 12w = 10000$$\n",
        "\n",
        "Solve it using rref form."
      ]
    },
    {
      "cell_type": "code",
      "metadata": {
        "id": "5lqPcpJ9F9xx",
        "colab": {
          "base_uri": "https://localhost:8080/"
        },
        "outputId": "06f92333-9331-4761-9a87-83cdf3505141"
      },
      "source": [
        "\n",
        "# \n",
        "#D_S = np.array([[4,4,4],[14,5,5],[5,12,12]]) \n",
        "\n",
        "# create symbol 'w'\n",
        "w = sy.Symbol(\"w\")            \n",
        "A_aug = sy.Matrix([[4, 4, 4,  5000], \n",
        "                   [14, 5,5, 8500], \n",
        "                   [5, 12,12, 10000]])\n",
        "# show rref form\n",
        "A_aug.rref()"
      ],
      "execution_count": null,
      "outputs": [
        {
          "output_type": "execute_result",
          "data": {
            "text/plain": [
              "(Matrix([\n",
              " [1, 0, 0, 0],\n",
              " [0, 1, 1, 0],\n",
              " [0, 0, 0, 1]]), (0, 1, 3))"
            ]
          },
          "metadata": {
            "tags": []
          },
          "execution_count": 49
        }
      ]
    },
    {
      "cell_type": "markdown",
      "metadata": {
        "id": "u7SDjgFkP5fj"
      },
      "source": [
        "Now, changing demand to (6600, 5100, 3100) and solving the system of equation using rref form."
      ]
    },
    {
      "cell_type": "code",
      "metadata": {
        "id": "nwSpgbqAGlON"
      },
      "source": [
        "\n",
        "# create symbol 'w'\n",
        "w = sy.Symbol(\"w\")            \n",
        "A_aug2 = sy.Matrix([[4, 4,4,  6600], \n",
        "                   [14, 5,5, 5100], \n",
        "                   [5, 12,12, 3100]])\n",
        "# show rref form\n",
        "A_aug2.rref()"
      ],
      "execution_count": null,
      "outputs": []
    },
    {
      "cell_type": "markdown",
      "metadata": {
        "id": "buGZxFi7Ge_N"
      },
      "source": [
        "The equations do not provide a solution for both the demand values, using `Rref` form. Our understanding here is that plant C and plant D have the same coefficients/rates so the row reduced echelon is not providing us a feasible solution\n"
      ]
    },
    {
      "cell_type": "markdown",
      "metadata": {
        "id": "fngUPMK_pzh1"
      },
      "source": [
        "### Set rates for Products"
      ]
    },
    {
      "cell_type": "markdown",
      "metadata": {
        "id": "8Go0tQYtpzh1"
      },
      "source": [
        "Company wants to set the rates of motor oil, diesel oil, and gasoline. For this purpose they have few suggestions given as follows: \n",
        "\n",
        "* 100, 66, 102 Rupees per gallon,\n",
        "\n",
        "* 104, 64, 100 Rupees per gallon,\n",
        "\n",
        "* 102, 68, 98 Rupees per gallon, and\n",
        "\n",
        "* 96, 68, 100 Rupees per gallon \n",
        "\n",
        "for motor oil, diesel oil, and gasoline respectively.\n",
        "\n",
        "Using matrix multiplication, find the rates which results in maximum total price."
      ]
    },
    {
      "cell_type": "markdown",
      "metadata": {
        "id": "9yRue5zIpzh1"
      },
      "source": [
        "Let $M$ denotes the matrix such that rows represents different plants (A, B and C), columns represents different products (motor oil, diesel oil and gasoline) and each value represents production of that product from one barrel of crude oil for that plant.\n",
        "\n",
        "$$M = \\begin{bmatrix}\n",
        "20 & 10 & 5 \\\\ \n",
        "4 & 14 & 5  \\\\ \n",
        " 4 & 5 & 12  \n",
        "\\end{bmatrix}$$\n",
        "\n",
        "Also, $R$ is a matrix having different rates as its columns.\n",
        "\n",
        "$$R = \\begin{bmatrix}\n",
        "100 & 104 & 102 & 96 \\\\ \n",
        "66 & 64 & 68 & 68  \\\\ \n",
        "102 & 100 & 98 & 100  \n",
        "\\end{bmatrix}$$"
      ]
    },
    {
      "cell_type": "markdown",
      "metadata": {
        "id": "xgdyia3E7mUu"
      },
      "source": [
        "Loading data for the M array"
      ]
    },
    {
      "cell_type": "code",
      "metadata": {
        "id": "Sz5Bef3npzh1",
        "colab": {
          "base_uri": "https://localhost:8080/"
        },
        "outputId": "1241ee55-9945-4562-a7bf-b260cf22fb91"
      },
      "source": [
        "\n",
        "m_data = [[20, 10, 5], [4, 14, 5], [4, 5, 12]]\n",
        "m = np.array(m_data)\n",
        "m"
      ],
      "execution_count": null,
      "outputs": [
        {
          "output_type": "execute_result",
          "data": {
            "text/plain": [
              "array([[20, 10,  5],\n",
              "       [ 4, 14,  5],\n",
              "       [ 4,  5, 12]])"
            ]
          },
          "metadata": {
            "tags": []
          },
          "execution_count": 9
        }
      ]
    },
    {
      "cell_type": "markdown",
      "metadata": {
        "id": "-q31xqhz7rJV"
      },
      "source": [
        "Loading data for the R array"
      ]
    },
    {
      "cell_type": "code",
      "metadata": {
        "id": "4OVTQ6xuq48s",
        "colab": {
          "base_uri": "https://localhost:8080/"
        },
        "outputId": "298db4a4-a21f-48eb-a7e5-2c898ee3c807"
      },
      "source": [
        "r_data = [[100, 104, 102, 96], [66, 64, 68, 68], [102, 100, 98, 100]]\n",
        "r = np.array(r_data)\n",
        "r"
      ],
      "execution_count": null,
      "outputs": [
        {
          "output_type": "execute_result",
          "data": {
            "text/plain": [
              "array([[100, 104, 102,  96],\n",
              "       [ 66,  64,  68,  68],\n",
              "       [102, 100,  98, 100]])"
            ]
          },
          "metadata": {
            "tags": []
          },
          "execution_count": 10
        }
      ]
    },
    {
      "cell_type": "markdown",
      "metadata": {
        "id": "T_3ORLLBq-7M"
      },
      "source": [
        "Dot product of M and R will give us total price across plants (i.e. rows) and scenarios (ie. columns)"
      ]
    },
    {
      "cell_type": "code",
      "metadata": {
        "id": "slS4cdkGq6_L",
        "colab": {
          "base_uri": "https://localhost:8080/"
        },
        "outputId": "eff92a4c-6598-44ee-8740-1c90414beae0"
      },
      "source": [
        "total_price = m.dot(r)\n",
        "total_price"
      ],
      "execution_count": null,
      "outputs": [
        {
          "output_type": "execute_result",
          "data": {
            "text/plain": [
              "array([[3170, 3220, 3210, 3100],\n",
              "       [1834, 1812, 1850, 1836],\n",
              "       [1954, 1936, 1924, 1924]])"
            ]
          },
          "metadata": {
            "tags": []
          },
          "execution_count": 11
        }
      ]
    },
    {
      "cell_type": "markdown",
      "metadata": {
        "id": "70tzKQ-D7v_c"
      },
      "source": [
        "We calculate the sum of prices across plants, i.e. by columns of total_price"
      ]
    },
    {
      "cell_type": "code",
      "metadata": {
        "id": "NuXw5nw1q9CE",
        "colab": {
          "base_uri": "https://localhost:8080/"
        },
        "outputId": "eac9c451-991b-40e7-d4fa-220e9cf12595"
      },
      "source": [
        "total_price_across_plants = np.array(total_price.sum(axis=0), dtype = np.int32)\n",
        "total_price_across_plants"
      ],
      "execution_count": null,
      "outputs": [
        {
          "output_type": "execute_result",
          "data": {
            "text/plain": [
              "array([6958, 6968, 6984, 6860], dtype=int32)"
            ]
          },
          "metadata": {
            "tags": []
          },
          "execution_count": 12
        }
      ]
    },
    {
      "cell_type": "markdown",
      "metadata": {
        "id": "0kqlHfrN8G5t"
      },
      "source": [
        "Lets find the max of all the total prices and which scenario (i.e. its column index)"
      ]
    },
    {
      "cell_type": "code",
      "metadata": {
        "colab": {
          "base_uri": "https://localhost:8080/"
        },
        "id": "z86MU6SM8O4s",
        "outputId": "3a61e0d0-e08c-4531-f9ce-62edab7d9222"
      },
      "source": [
        "max_total_price = np.max(total_price_across_plants)\n",
        "max_total_price"
      ],
      "execution_count": null,
      "outputs": [
        {
          "output_type": "execute_result",
          "data": {
            "text/plain": [
              "6984"
            ]
          },
          "metadata": {
            "tags": []
          },
          "execution_count": 13
        }
      ]
    },
    {
      "cell_type": "code",
      "metadata": {
        "colab": {
          "base_uri": "https://localhost:8080/"
        },
        "id": "BCD5q4bj-imW",
        "outputId": "c1cf634e-79d1-4a4e-ce19-2e4f876e66cf"
      },
      "source": [
        "scenario = np.where(total_price_across_plants == max_total_price)\n",
        "print(\"The scenario which gives maximum pricing : {}\".format(scenario[0][0] + 1))"
      ],
      "execution_count": null,
      "outputs": [
        {
          "output_type": "stream",
          "text": [
            "The scenario which gives maximum pricing : 2\n"
          ],
          "name": "stdout"
        }
      ]
    },
    {
      "cell_type": "markdown",
      "metadata": {
        "id": "cga8JrkApzh1"
      },
      "source": [
        "### Marginal Cost"
      ]
    },
    {
      "cell_type": "markdown",
      "metadata": {
        "id": "8nN5V5NXpzh2"
      },
      "source": [
        "The total cost $C(x)$ in Rupees, associated with the production of $x$ gallons of gasoline is given by \n",
        "\n",
        "$$C(x) = 0.005 x^3 – 0.02 x^2 + 30x + 5000$$\n",
        "\n",
        "Find the marginal cost when $22$ gallons are produced, where, marginal cost means the instantaneous rate of change of total cost at any level of output."
      ]
    },
    {
      "cell_type": "code",
      "metadata": {
        "id": "rO-HMED3pzh2",
        "colab": {
          "base_uri": "https://localhost:8080/"
        },
        "outputId": "d8b3ca35-3da7-43a3-c0a5-37d009505ebf"
      },
      "source": [
        "\n",
        "def f(x):\n",
        "  return (0.005*x**3) - (0.02*x**2) + 30*x + 5000\n",
        "\n",
        "from scipy.misc import derivative\n",
        "\n",
        "print('The marginal cost is ',derivative(f,22).round(4))\n"
      ],
      "execution_count": null,
      "outputs": [
        {
          "output_type": "stream",
          "text": [
            "The marginal cost is  36.385\n"
          ],
          "name": "stdout"
        }
      ]
    },
    {
      "cell_type": "markdown",
      "metadata": {
        "id": "qOMlrDEhpzh2"
      },
      "source": [
        "### Marginal Revenue"
      ]
    },
    {
      "cell_type": "markdown",
      "metadata": {
        "id": "bfS88lmWpzh2"
      },
      "source": [
        "The total revenue in Rupees received from the sale of $x$ gallons of a motor oil is given by $$R(x) = 3x^2 + 36x + 5.$$ \n",
        "\n",
        "Find the marginal revenue, when $x = 28$, where, marginal revenue means the rate of change of total revenue with respect to the number of items sold at an instant."
      ]
    },
    {
      "cell_type": "code",
      "metadata": {
        "id": "rb0h6p49pzh2",
        "colab": {
          "base_uri": "https://localhost:8080/"
        },
        "outputId": "f4ab1576-3d6d-47c7-8952-cc96896dc241"
      },
      "source": [
        "\n",
        "from sympy import Symbol, diff\n",
        "  \n",
        "x = Symbol('x')\n",
        "R = 3 * x**2 + 36 * x + 5\n",
        "print(\"Revenue function : {} \".format(R))\n",
        "   \n",
        "MR = diff(R, x)  \n",
        "      \n",
        "print(\"Marginal Revenue function : {} \".format(MR))\n",
        "\n",
        "# Marginal revenue when x = 28\n",
        "print(\"Marginal revenue is : {}\".format(MR.evalf(subs = {x: 28})))"
      ],
      "execution_count": null,
      "outputs": [
        {
          "output_type": "stream",
          "text": [
            "Revenue function : 3*x**2 + 36*x + 5 \n",
            "Marginal Revenue function : 6*x + 36 \n",
            "Marginal revenue is : 204.000000000000\n"
          ],
          "name": "stdout"
        }
      ]
    },
    {
      "cell_type": "markdown",
      "metadata": {
        "id": "ZKb5VuM_pzh2"
      },
      "source": [
        "### Pour crude oil in tank"
      ]
    },
    {
      "cell_type": "markdown",
      "metadata": {
        "id": "TD9zv5jPpzh2"
      },
      "source": [
        "In a cylindrical tank of radius 10 meter, crude oil is being poured at the rate of 314 cubic meter per hour. Then find\n",
        "\n",
        "* the rate at which the height of the tank is increasing, and\n",
        "* the height of crude oil in tank after 2 hours."
      ]
    },
    {
      "cell_type": "code",
      "metadata": {
        "id": "g6ntcdNypzh2",
        "colab": {
          "base_uri": "https://localhost:8080/"
        },
        "outputId": "2a4a6691-4a9c-49c7-f9f7-431000639509"
      },
      "source": [
        "\n",
        "r = 10\n",
        "dvdt = 314\n",
        "pi = 3.14\n",
        "#dV/dr = 2πrh\n",
        "dhdt = dvdt/(pi*r*r)\n",
        "\n",
        "print(\"Rate of Height the tank increasing in 1hr : \" , dhdt)\n",
        "print(\"Rate of Height the tank increasing in 2hr : \" , 2*dhdt)"
      ],
      "execution_count": null,
      "outputs": [
        {
          "output_type": "stream",
          "text": [
            "Rate of Height the tank increasing in 1hr :  1.0\n",
            "Rate of Height the tank increasing in 2hr :  2.0\n"
          ],
          "name": "stdout"
        }
      ]
    },
    {
      "cell_type": "code",
      "metadata": {
        "id": "lM-HrNCGQzjQ"
      },
      "source": [
        ""
      ],
      "execution_count": null,
      "outputs": []
    }
  ]
}